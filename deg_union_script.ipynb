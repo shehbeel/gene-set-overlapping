{
 "cells": [
  {
   "cell_type": "code",
   "execution_count": 1,
   "id": "da2c8d86",
   "metadata": {},
   "outputs": [],
   "source": [
    "#import numpy as np\n",
    "import pandas as pd"
   ]
  },
  {
   "cell_type": "code",
   "execution_count": 2,
   "id": "e60035de",
   "metadata": {
    "scrolled": false
   },
   "outputs": [
    {
     "data": {
      "text/html": [
       "<div>\n",
       "<style scoped>\n",
       "    .dataframe tbody tr th:only-of-type {\n",
       "        vertical-align: middle;\n",
       "    }\n",
       "\n",
       "    .dataframe tbody tr th {\n",
       "        vertical-align: top;\n",
       "    }\n",
       "\n",
       "    .dataframe thead th {\n",
       "        text-align: right;\n",
       "    }\n",
       "</style>\n",
       "<table border=\"1\" class=\"dataframe\">\n",
       "  <thead>\n",
       "    <tr style=\"text-align: right;\">\n",
       "      <th></th>\n",
       "      <th>Vulva Cancer</th>\n",
       "      <th>Uterine Carcinosarcoma</th>\n",
       "      <th>Endometrial Carcinoma</th>\n",
       "      <th>Uterine Corpus Endometrial Carcinoma</th>\n",
       "      <th>Ovarian Cancer</th>\n",
       "      <th>Cervical Cancer</th>\n",
       "    </tr>\n",
       "  </thead>\n",
       "  <tbody>\n",
       "    <tr>\n",
       "      <th>0</th>\n",
       "      <td>MAML2</td>\n",
       "      <td>TP53</td>\n",
       "      <td>PTEN</td>\n",
       "      <td>PTEN</td>\n",
       "      <td>TP53</td>\n",
       "      <td>TTN</td>\n",
       "    </tr>\n",
       "    <tr>\n",
       "      <th>1</th>\n",
       "      <td>SPTBN1</td>\n",
       "      <td>PIK3CA</td>\n",
       "      <td>TP53</td>\n",
       "      <td>PIK3CA</td>\n",
       "      <td>TTN</td>\n",
       "      <td>PIK3CA</td>\n",
       "    </tr>\n",
       "    <tr>\n",
       "      <th>2</th>\n",
       "      <td>SYNE1</td>\n",
       "      <td>FBXW7</td>\n",
       "      <td>PIK3CA</td>\n",
       "      <td>ARID1A</td>\n",
       "      <td>BRCA2</td>\n",
       "      <td>MUC4</td>\n",
       "    </tr>\n",
       "    <tr>\n",
       "      <th>3</th>\n",
       "      <td>TP53</td>\n",
       "      <td>PPP2R1A</td>\n",
       "      <td>ARID1A</td>\n",
       "      <td>TTN</td>\n",
       "      <td>NaN</td>\n",
       "      <td>KMT2C</td>\n",
       "    </tr>\n",
       "    <tr>\n",
       "      <th>4</th>\n",
       "      <td>ODF1</td>\n",
       "      <td>PTEN</td>\n",
       "      <td>PIK3R1</td>\n",
       "      <td>TP53</td>\n",
       "      <td>NaN</td>\n",
       "      <td>MUC16</td>\n",
       "    </tr>\n",
       "    <tr>\n",
       "      <th>...</th>\n",
       "      <td>...</td>\n",
       "      <td>...</td>\n",
       "      <td>...</td>\n",
       "      <td>...</td>\n",
       "      <td>...</td>\n",
       "      <td>...</td>\n",
       "    </tr>\n",
       "    <tr>\n",
       "      <th>398</th>\n",
       "      <td>NaN</td>\n",
       "      <td>ZBTB7B</td>\n",
       "      <td>NaN</td>\n",
       "      <td>NaN</td>\n",
       "      <td>NaN</td>\n",
       "      <td>NaN</td>\n",
       "    </tr>\n",
       "    <tr>\n",
       "      <th>399</th>\n",
       "      <td>NaN</td>\n",
       "      <td>DOP1A</td>\n",
       "      <td>NaN</td>\n",
       "      <td>NaN</td>\n",
       "      <td>NaN</td>\n",
       "      <td>NaN</td>\n",
       "    </tr>\n",
       "    <tr>\n",
       "      <th>400</th>\n",
       "      <td>NaN</td>\n",
       "      <td>PXDNL</td>\n",
       "      <td>NaN</td>\n",
       "      <td>NaN</td>\n",
       "      <td>NaN</td>\n",
       "      <td>NaN</td>\n",
       "    </tr>\n",
       "    <tr>\n",
       "      <th>401</th>\n",
       "      <td>NaN</td>\n",
       "      <td>PLEC</td>\n",
       "      <td>NaN</td>\n",
       "      <td>NaN</td>\n",
       "      <td>NaN</td>\n",
       "      <td>NaN</td>\n",
       "    </tr>\n",
       "    <tr>\n",
       "      <th>402</th>\n",
       "      <td>NaN</td>\n",
       "      <td>RB1</td>\n",
       "      <td>NaN</td>\n",
       "      <td>NaN</td>\n",
       "      <td>NaN</td>\n",
       "      <td>NaN</td>\n",
       "    </tr>\n",
       "  </tbody>\n",
       "</table>\n",
       "<p>403 rows × 6 columns</p>\n",
       "</div>"
      ],
      "text/plain": [
       "    Vulva Cancer Uterine Carcinosarcoma Endometrial Carcinoma  \\\n",
       "0          MAML2                   TP53                  PTEN   \n",
       "1         SPTBN1                 PIK3CA                  TP53   \n",
       "2          SYNE1                  FBXW7                PIK3CA   \n",
       "3           TP53                PPP2R1A                ARID1A   \n",
       "4           ODF1                   PTEN                PIK3R1   \n",
       "..           ...                    ...                   ...   \n",
       "398          NaN                 ZBTB7B                   NaN   \n",
       "399          NaN                  DOP1A                   NaN   \n",
       "400          NaN                  PXDNL                   NaN   \n",
       "401          NaN                   PLEC                   NaN   \n",
       "402          NaN                    RB1                   NaN   \n",
       "\n",
       "    Uterine Corpus Endometrial Carcinoma Ovarian Cancer Cervical Cancer  \n",
       "0                                   PTEN           TP53             TTN  \n",
       "1                                 PIK3CA            TTN          PIK3CA  \n",
       "2                                 ARID1A          BRCA2            MUC4  \n",
       "3                                    TTN            NaN           KMT2C  \n",
       "4                                   TP53            NaN           MUC16  \n",
       "..                                   ...            ...             ...  \n",
       "398                                  NaN            NaN             NaN  \n",
       "399                                  NaN            NaN             NaN  \n",
       "400                                  NaN            NaN             NaN  \n",
       "401                                  NaN            NaN             NaN  \n",
       "402                                  NaN            NaN             NaN  \n",
       "\n",
       "[403 rows x 6 columns]"
      ]
     },
     "execution_count": 2,
     "metadata": {},
     "output_type": "execute_result"
    }
   ],
   "source": [
    "# Gynecolgical cancers and their overexpressed genes\n",
    "gyno_cancers = pd.read_csv('gyno_cancer_genes.csv')\n",
    "\n",
    "# NASA GeneLab gene expression datasets\n",
    "glds_125 = pd.read_csv('GLDS-125_DGE.csv')\n",
    "glds_127 = pd.read_csv('GLDS-127_DGE.csv')\n",
    "glds_13 = pd.read_csv('GLDS-13_DGE.csv')\n",
    "glds_154 = pd.read_csv('GLDS-154_DGE.csv')\n",
    "glds_188 = pd.read_csv('GLDS-188_DGE.csv')\n",
    "glds_52 = pd.read_csv('GLDS-52_DGE.csv')\n",
    "glds_71 = pd.read_csv('GLDS-71_DGE.csv')\n",
    "glds_78 = pd.read_csv('GLDS-78_DGE.csv')\n",
    "glds_91 = pd.read_csv('GLDS-91_DGE.csv')\n",
    "\n",
    "gyno_cancers"
   ]
  },
  {
   "cell_type": "code",
   "execution_count": 5,
   "id": "0f53d85a",
   "metadata": {},
   "outputs": [],
   "source": [
    "# Get list of over-expressed genes in each type of gynecological cancers\n",
    "vulva_cancer = gyno_cancers['Vulva Cancer'].dropna().to_list()\n",
    "uterine_carcinosarcoma = gyno_cancers['Uterine Carcinosarcoma'].dropna().to_list()\n",
    "endometrial_carcinoma = gyno_cancers['Endometrial Carcinoma'].dropna().to_list()\n",
    "uterine_corpus_endometrial_carcinoma = gyno_cancers['Uterine Corpus Endometrial Carcinoma'].dropna().to_list()\n",
    "ovarian_cancer = gyno_cancers['Ovarian Cancer'].dropna().to_list()\n",
    "cervical_cancer = gyno_cancers['Cervical Cancer'].dropna().to_list()"
   ]
  },
  {
   "cell_type": "markdown",
   "id": "08be6cec",
   "metadata": {},
   "source": [
    "---"
   ]
  },
  {
   "cell_type": "markdown",
   "id": "7e2c4383",
   "metadata": {},
   "source": [
    "## GLDS-13"
   ]
  },
  {
   "cell_type": "code",
   "execution_count": 17,
   "id": "cfbe8e9a",
   "metadata": {},
   "outputs": [
    {
     "name": "stdout",
     "output_type": "stream",
     "text": [
      "Number of Significantly Upregulated Genes in GLDS-13: 2065\n",
      " \n",
      "MAPPED UPREGULATED GENES IN GLDS-13\n",
      "Vulva Cancer: ['AKAP13', 'TRIOBP', 'ANK3', 'TRIO', 'SYNE2', 'EPHB6', 'PCNX2', 'AHNAK2', 'MYO9B', 'PLEC', 'CUL9', 'ERCC1', 'CHD3', 'G6PD', 'ITPR1', 'CHD4', 'MYO9A', 'AP4B1', 'IMPDH2', 'CRTC1', 'DGKA', 'PIPOX', 'ZNF75D']\n",
      "Uterine Carcinosarcoma: ['GATM', 'SKIL', 'KCNG2', 'ZSWIM9', 'ATG2A', 'PDLIM5', 'KRT10', 'SNX20', 'PCNX2', 'LRCH4', 'NPHP4', 'PLCB1', 'PLEC', 'VPS41', 'SIPA1', 'FRYL', 'PLEKHG4', 'CHD4', 'PGK1', 'HACL1', 'WDR6', 'BAIAP2L2', 'SEL1L3', 'FLNA', 'TLN1', 'EMILIN1', 'CAMTA1']\n",
      "Endometrial Cancer: ['INPPL1', 'ANK3', 'MYCBP2', 'SYNE2', 'RAPGEF2', 'ZNF800', 'RNF213', 'AHNAK2', 'MAP4', 'PLXNA1', 'SEC31A', 'ATAD2', 'PLEC', 'MEGF8', 'ZBTB20', 'SZT2', 'CHD3', 'CHD4', 'FLNA', 'CHD9']\n",
      "Uterine Corpus Endometrial Carcinoma: ['UTRN', 'INPPL1', 'PCNT', 'AKAP13', 'ANK3', 'MYCBP2', 'TRIO', 'SYNE2', 'CHD8', 'POLE', 'VPS13D', 'MED12', 'IGF2R', 'ATM', 'SRRM2', 'RNF213', 'AHNAK2', 'DOCK10', 'GOLGB1', 'MACF1', 'DOCK2', 'PLEC', 'CHD7', 'VPS13C', 'MEGF8', 'ANKRD11', 'SZT2', 'CHD3', 'DOCK11', 'ITPR1', 'CHD4', 'MYO9A', 'CUX1', 'FLNA', 'VWA8', 'ATRX', 'CUL9']\n",
      "Ovarian Cancer: []\n",
      "Cervical Cancer: []\n",
      " \n",
      "Number of Significantly Downregulated Genes in GLDS-13: 1389\n",
      " \n",
      "MAPPED DOWNREGULATED GENES IN GLDS-13\n",
      "Vulva Cancer: ['ADAM18', 'ATAD2B', 'ZBTB41', 'ANP32E', 'ITPRID2', 'SCAF11', 'KMT2C', 'UBR5', 'PIK3CA', 'ZFHX3', 'PRUNE2', 'PDE4A', 'BRCA2', 'SIDT1', 'WDHD1', 'CASP8', 'APC', 'BMT2', 'ZFHX4', 'NPAP1', 'KIAA1109', 'CREBBP', 'SYNE1']\n",
      "Uterine Carcinosarcoma: ['RABGAP1', 'RB1', 'ARID1A', 'CEP350', 'NUP155', 'SOS2', 'DYRK1A', 'ANKRD26', 'CCR9', 'PIK3CA', 'OR6B1', 'CSNK1G1', 'OLFM1', 'BDP1', 'MKLN1', 'ADNP', 'ZFYVE26', 'TOPBP1', 'PHTF1', 'PLD1', 'ATP13A3', 'AGL', 'ANKRD17', 'KDM5A', 'DOP1A', 'AURKC', 'BCO1', 'LPIN1', 'ADGRF4', 'SLC9B2', 'ZNF264', 'SYNE1', 'ARID4B', 'PTEN']\n",
      "Endometrial Cancer: ['ANK2', 'FBN2', 'NCAPD3', 'DIDO1', 'CEP350', 'COL6A3', 'ARID1A', 'KMT2C', 'UBR5', 'SETD1B', 'DNAH14', 'PIK3CA', 'ZNF292', 'ZFHX3', 'TMEM132B', 'LMAN1', 'SHPRH', 'RYR3', 'KANSL1', 'KIF20B', 'TAF1', 'WDFY3', 'HERC1', 'ZNF831', 'ZFHX4', 'SYNE1', 'PTEN']\n",
      "Uterine Corpus Endometrial Carcinoma: ['PTPRB', 'KMT2A', 'ANK2', 'UNC80', 'RB1', 'FBN2', 'ARID1A', 'GIGYF2', 'CEP350', 'BRWD1', 'COL6A3', 'KMT2C', 'AKAP6', 'MAP3K1', 'UBR5', 'DICER1', 'ZNF462', 'DNAH14', 'BAZ2B', 'PIK3CA', 'ZNF292', 'REV3L', 'ZFHX3', 'NAV3', 'ARID5B', 'HIVEP2', 'CHD6', 'RANBP2', 'FAM135B', 'RYR3', 'TAF1L', 'BRCA2', 'KIF20B', 'WDFY3', 'HERC1', 'TAF1', 'APC', 'ABCB1', 'ZFHX4', 'KIAA1109', 'CREBBP', 'SYNE1', 'PTEN']\n",
      "Ovarian Cancer: ['BRCA2']\n",
      "Cervical Cancer: ['SYNE1', 'PIK3CA', 'KMT2C']\n"
     ]
    }
   ],
   "source": [
    "# Find the genes that are upregulated\n",
    "glds_13_upregulated = glds_13[(glds_13['LOG2FC'] > 0) & (glds_13['PVAL'] < 0.05)]\n",
    "glds_13_upregulated_genes = glds_13_upregulated['ENSEMBL'].to_list()\n",
    "print(\"Number of Significantly Upregulated Genes in GLDS-13:\", len(glds_13_upregulated_genes))\n",
    "\n",
    "print(\" \")\n",
    "\n",
    "# Mapping gyno cancer genes to upregulated genes in GLDS-13\n",
    "print('MAPPED UPREGULATED GENES IN GLDS-13')\n",
    "print(\"Vulva Cancer:\", list(set(vulva_cancer) & set(glds_13_upregulated_genes)))\n",
    "print(\"Uterine Carcinosarcoma:\", list(set(uterine_carcinosarcoma) & set(glds_13_upregulated_genes)))\n",
    "print(\"Endometrial Cancer:\", list(set(endometrial_carcinoma) & set(glds_13_upregulated_genes)))\n",
    "print(\"Uterine Corpus Endometrial Carcinoma:\", list(set(uterine_corpus_endometrial_carcinoma) & set(glds_13_upregulated_genes)))\n",
    "print(\"Ovarian Cancer:\", list(set(ovarian_cancer) & set(glds_13_upregulated_genes)))\n",
    "print(\"Cervical Cancer:\", list(set(cervical_cancer) & set(glds_13_upregulated_genes)))\n",
    "\n",
    "print(\" \")\n",
    "\n",
    "# Find the genes that are downregulated\n",
    "glds_13_downregulated = glds_13[(glds_13['LOG2FC'] < 0) & (glds_13['PVAL'] < 0.05)]\n",
    "glds_13_downregulated_genes = glds_13_downregulated['ENSEMBL'].to_list()\n",
    "print(\"Number of Significantly Downregulated Genes in GLDS-13:\", len(glds_13_downregulated_genes))\n",
    "\n",
    "print(\" \")\n",
    "\n",
    "# Mapping gyno cancer genes to downregulated genes in GLDS-13\n",
    "print('MAPPED DOWNREGULATED GENES IN GLDS-13')\n",
    "print(\"Vulva Cancer:\", list(set(vulva_cancer) & set(glds_13_downregulated_genes)))\n",
    "print(\"Uterine Carcinosarcoma:\", list(set(uterine_carcinosarcoma) & set(glds_13_downregulated_genes)))\n",
    "print(\"Endometrial Cancer:\", list(set(endometrial_carcinoma) & set(glds_13_downregulated_genes)))\n",
    "print(\"Uterine Corpus Endometrial Carcinoma:\", list(set(uterine_corpus_endometrial_carcinoma) & set(glds_13_downregulated_genes)))\n",
    "print(\"Ovarian Cancer:\", list(set(ovarian_cancer) & set(glds_13_downregulated_genes)))\n",
    "print(\"Cervical Cancer:\", list(set(cervical_cancer) & set(glds_13_downregulated_genes)))"
   ]
  },
  {
   "cell_type": "markdown",
   "id": "a74428c9",
   "metadata": {},
   "source": [
    "---"
   ]
  },
  {
   "cell_type": "markdown",
   "id": "81d87b37",
   "metadata": {},
   "source": [
    "## GLDS-52"
   ]
  },
  {
   "cell_type": "code",
   "execution_count": 16,
   "id": "4144c4a5",
   "metadata": {},
   "outputs": [
    {
     "name": "stdout",
     "output_type": "stream",
     "text": [
      "Number of Significantly Upregulated Genes in GLDS-52: 732\n",
      " \n",
      "MAPPED UPREGULATED GENES IN GLDS-52\n",
      "Vulva Cancer: ['MUC17', 'IGFN1', 'BCL11B', 'KRTAP10-10', 'WDR87']\n",
      "Uterine Carcinosarcoma: ['SPTBN2', 'ABHD16B', 'FREM3', 'ANKK1', 'PDLIM5', 'FGD2']\n",
      "Endometrial Cancer: ['MUC17', 'IGFN1', 'MYO15A', 'WDR87', 'RPL22']\n",
      "Uterine Corpus Endometrial Carcinoma: ['MUC17', 'MYO15A', 'WDR87', 'SPTBN2', 'RPL22']\n",
      "Ovarian Cancer: []\n",
      "Cervical Cancer: []\n",
      " \n",
      "Number of Significantly Downregulated Genes in GLDS-52: 1212\n",
      " \n",
      "MAPPED DOWNREGULATED GENES IN GLDS-52\n",
      "Vulva Cancer: ['CASP8', 'HACD1', 'NOTCH1', 'HDAC1', 'ZNF814', 'MCFD2', 'RPS6KA6', 'TRIOBP', 'AASS', 'AGRN', 'DGKA']\n",
      "Uterine Carcinosarcoma: ['PTPRU', 'CARD6', 'ZNF521', 'MCM8', 'IREB2', 'AK9', 'SLFN5', 'CEP295', 'NCAPD2', 'NLGN2', 'ITGA5', 'APH1B', 'FRG1BP', 'NID1', 'SNX19', 'TSC2', 'ANKRD26', 'PLCB1', 'ADNP', 'HACD1', 'CTNNB1', 'PHTF1', 'MED23', 'FRYL', 'AGL', 'MBTPS1', 'USP40', 'CNTLN', 'DAPK1', 'SEL1L3', 'FLNA', 'TLE3']\n",
      "Endometrial Cancer: ['DNAH5', 'CTNNB1', 'FAT4', 'ZDBF2', 'FLNA', 'PLXNA1', 'CEP295', 'DIDO1', 'ESRP1', 'SAMD9L', 'SHC1', 'ATAD2']\n",
      "Uterine Corpus Endometrial Carcinoma: ['RIMS2', 'ITPR2', 'VPS13D', 'BRWD1', 'LRP1', 'KIAA1217', 'NALCN', 'ARID5B', 'DNAH5', 'CTNNB1', 'BRWD3', 'POLQ', 'HSPG2', 'DOCK1', 'SAMD9', 'FAT4', 'FLNA', 'ASPM', 'SYCP2', 'SAMD9L', 'ATRX']\n",
      "Ovarian Cancer: []\n",
      "Cervical Cancer: []\n"
     ]
    }
   ],
   "source": [
    "# Find the genes that are upregulated\n",
    "glds_52_upregulated = glds_52[(glds_52['LOG2FC'] > 0) & (glds_52['PVAL'] < 0.05)]\n",
    "glds_52_upregulated_genes = glds_52_upregulated['ENSEMBL'].to_list()\n",
    "print(\"Number of Significantly Upregulated Genes in GLDS-52:\", len(glds_52_upregulated_genes))\n",
    "\n",
    "print(\" \")\n",
    "\n",
    "# Mapping gyno cancer genes to upregulated genes in GLDS-52\n",
    "print('MAPPED UPREGULATED GENES IN GLDS-52')\n",
    "print(\"Vulva Cancer:\", list(set(vulva_cancer) & set(glds_52_upregulated_genes)))\n",
    "print(\"Uterine Carcinosarcoma:\", list(set(uterine_carcinosarcoma) & set(glds_52_upregulated_genes)))\n",
    "print(\"Endometrial Cancer:\", list(set(endometrial_carcinoma) & set(glds_52_upregulated_genes)))\n",
    "print(\"Uterine Corpus Endometrial Carcinoma:\", list(set(uterine_corpus_endometrial_carcinoma) & set(glds_52_upregulated_genes)))\n",
    "print(\"Ovarian Cancer:\", list(set(ovarian_cancer) & set(glds_52_upregulated_genes)))\n",
    "print(\"Cervical Cancer:\", list(set(cervical_cancer) & set(glds_52_upregulated_genes)))\n",
    "\n",
    "print(\" \")\n",
    "\n",
    "# Find the genes that are downregulated\n",
    "glds_52_downregulated = glds_52[(glds_52['LOG2FC'] < 0) & (glds_52['PVAL'] < 0.05)]\n",
    "glds_52_downregulated_genes = glds_52_downregulated['ENSEMBL'].to_list()\n",
    "print(\"Number of Significantly Downregulated Genes in GLDS-52:\", len(glds_52_downregulated_genes))\n",
    "\n",
    "print(\" \")\n",
    "\n",
    "# Mapping gyno cancer genes to downregulated genes in GLDS-52\n",
    "print('MAPPED DOWNREGULATED GENES IN GLDS-52')\n",
    "print(\"Vulva Cancer:\", list(set(vulva_cancer) & set(glds_52_downregulated_genes)))\n",
    "print(\"Uterine Carcinosarcoma:\", list(set(uterine_carcinosarcoma) & set(glds_52_downregulated_genes)))\n",
    "print(\"Endometrial Cancer:\", list(set(endometrial_carcinoma) & set(glds_52_downregulated_genes)))\n",
    "print(\"Uterine Corpus Endometrial Carcinoma:\", list(set(uterine_corpus_endometrial_carcinoma) & set(glds_52_downregulated_genes)))\n",
    "print(\"Ovarian Cancer:\", list(set(ovarian_cancer) & set(glds_52_downregulated_genes)))\n",
    "print(\"Cervical Cancer:\", list(set(cervical_cancer) & set(glds_52_downregulated_genes)))"
   ]
  },
  {
   "cell_type": "markdown",
   "id": "f41f2c45",
   "metadata": {},
   "source": [
    "---"
   ]
  },
  {
   "cell_type": "markdown",
   "id": "f1c9fba7",
   "metadata": {},
   "source": [
    "## GLDS-71"
   ]
  },
  {
   "cell_type": "code",
   "execution_count": 12,
   "id": "09cc0cd7",
   "metadata": {},
   "outputs": [
    {
     "name": "stdout",
     "output_type": "stream",
     "text": [
      "Number of Significantly Upregulated Genes in GLDS-71: 276\n",
      " \n",
      "MAPPED UPREGULATED GENES IN GLDS-71\n",
      "Vulva Cancer: ['OR5AS1', 'SHROOM3', 'PCDH10', 'MEGF10']\n",
      "Uterine Carcinosarcoma: ['TOPAZ1', 'KCNIP1', 'SHROOM3', 'MEGF10']\n",
      "Endometrial Cancer: ['DLGAP2', 'DPP6']\n",
      "Uterine Corpus Endometrial Carcinoma: ['MXRA5', 'DNAH11', 'DNAH9', 'DCC', 'CNTNAP5']\n",
      "Ovarian Cancer: []\n",
      "Cervical Cancer: []\n",
      " \n",
      "Number of Significantly Downregulated Genes in GLDS-71: 97\n",
      " \n",
      "MAPPED DOWNREGULATED GENES IN GLDS-71\n",
      "Vulva Cancer: []\n",
      "Uterine Carcinosarcoma: ['TSGA10']\n",
      "Endometrial Cancer: []\n",
      "Uterine Corpus Endometrial Carcinoma: []\n",
      "Ovarian Cancer: []\n",
      "Cervical Cancer: []\n"
     ]
    }
   ],
   "source": [
    "# Find the genes that are upregulated\n",
    "glds_71_upregulated = glds_71[(glds_71['LOG2FC'] > 0) & (glds_71['PVAL'] < 0.05)]\n",
    "glds_71_upregulated_genes = glds_71_upregulated['ENSEMBL'].to_list()\n",
    "print(\"Number of Significantly Upregulated Genes in GLDS-71:\", len(glds_71_upregulated_genes))\n",
    "\n",
    "print(\" \")\n",
    "\n",
    "# Mapping gyno cancer genes to upregulated genes in GLDS-71\n",
    "print('MAPPED UPREGULATED GENES IN GLDS-71')\n",
    "print(\"Vulva Cancer:\", list(set(vulva_cancer) & set(glds_71_upregulated_genes)))\n",
    "print(\"Uterine Carcinosarcoma:\", list(set(uterine_carcinosarcoma) & set(glds_71_upregulated_genes)))\n",
    "print(\"Endometrial Cancer:\", list(set(endometrial_carcinoma) & set(glds_71_upregulated_genes)))\n",
    "print(\"Uterine Corpus Endometrial Carcinoma:\", list(set(uterine_corpus_endometrial_carcinoma) & set(glds_71_upregulated_genes)))\n",
    "print(\"Ovarian Cancer:\", list(set(ovarian_cancer) & set(glds_71_upregulated_genes)))\n",
    "print(\"Cervical Cancer:\", list(set(cervical_cancer) & set(glds_71_upregulated_genes)))\n",
    "\n",
    "print(\" \")\n",
    "\n",
    "# Find the genes that are downregulated\n",
    "glds_71_downregulated = glds_71[(glds_71['LOG2FC'] < 0) & (glds_71['PVAL'] < 0.05)]\n",
    "glds_71_downregulated_genes = glds_71_downregulated['ENSEMBL'].to_list()\n",
    "print(\"Number of Significantly Downregulated Genes in GLDS-71:\", len(glds_71_downregulated_genes))\n",
    "\n",
    "print(\" \")\n",
    "\n",
    "# Mapping gyno cancer genes to downregulated genes in GLDS-71\n",
    "print('MAPPED DOWNREGULATED GENES IN GLDS-71')\n",
    "print(\"Vulva Cancer:\", list(set(vulva_cancer) & set(glds_71_downregulated_genes)))\n",
    "print(\"Uterine Carcinosarcoma:\", list(set(uterine_carcinosarcoma) & set(glds_71_downregulated_genes)))\n",
    "print(\"Endometrial Cancer:\", list(set(endometrial_carcinoma) & set(glds_71_downregulated_genes)))\n",
    "print(\"Uterine Corpus Endometrial Carcinoma:\", list(set(uterine_corpus_endometrial_carcinoma) & set(glds_71_downregulated_genes)))\n",
    "print(\"Ovarian Cancer:\", list(set(ovarian_cancer) & set(glds_71_downregulated_genes)))\n",
    "print(\"Cervical Cancer:\", list(set(cervical_cancer) & set(glds_71_downregulated_genes)))"
   ]
  },
  {
   "cell_type": "markdown",
   "id": "7b23079e",
   "metadata": {},
   "source": [
    "---"
   ]
  },
  {
   "cell_type": "markdown",
   "id": "ba9f6c9d",
   "metadata": {},
   "source": [
    "## GLDS-78"
   ]
  },
  {
   "cell_type": "code",
   "execution_count": 13,
   "id": "7775ecd2",
   "metadata": {},
   "outputs": [
    {
     "name": "stdout",
     "output_type": "stream",
     "text": [
      "Number of Significantly Upregulated Genes in GLDS-78: 760\n",
      " \n",
      "MAPPED UPREGULATED GENES IN GLDS-78\n",
      "Vulva Cancer: ['DST', 'FAT2', 'ADAP1', 'SVEP1', 'KMT2B', 'EPPK1', 'ABCA3', 'GABRA6', 'ANK3', 'G6PD', 'NLGN3']\n",
      "Uterine Carcinosarcoma: ['CASK', 'PKP3', 'PSTPIP2', 'PLAT', 'KRAS', 'POM121L2', 'EFCAB6', 'SEL1L3', 'PHEX', 'NLRX1', 'RB1', 'ATP13A3', 'KCND1', 'ATXN10', 'EMILIN1', 'KRT10', 'ATP1A1']\n",
      "Endometrial Cancer: ['SVIL', 'CTNNA2', 'DST', 'FAT2', 'KRAS', 'KMT2B', 'CELSR1', 'ANK3', 'ESRP1', 'PHF2', 'ABCA12']\n",
      "Uterine Corpus Endometrial Carcinoma: ['LRP1', 'SVIL', 'DST', 'FAT2', 'MYO10', 'SVEP1', 'KRAS', 'DYNC1H1', 'SPTAN1', 'KMT2B', 'MYH7', 'RB1', 'PLXNA2', 'ANK3', 'HSPG2', 'PDE4DIP', 'ABCA12']\n",
      "Ovarian Cancer: []\n",
      "Cervical Cancer: []\n",
      " \n",
      "Number of Significantly Downregulated Genes in GLDS-78: 607\n",
      " \n",
      "MAPPED DOWNREGULATED GENES IN GLDS-78\n",
      "Vulva Cancer: ['COL6A1', 'BECN1', 'ZNF814', 'CHD3', 'BRCA2', 'MDN1', 'FBN1']\n",
      "Uterine Carcinosarcoma: ['LRRC49', 'COL6A1', 'GATM', 'SEZ6L2', 'KIAA0586', 'KCNIP1', 'OLFM4', 'LTBP2']\n",
      "Endometrial Cancer: ['LIMCH1', 'INPPL1', 'ANK2', 'PXDN', 'DNAH2', 'FBN2', 'CHD3', 'MAP1A', 'MDN1']\n",
      "Uterine Corpus Endometrial Carcinoma: ['INPPL1', 'VCAN', 'ANK2', 'TENM4', 'FN1', 'PXDN', 'DNAH2', 'FBN2', 'CHD3', 'ROS1', 'BRCA2', 'BRWD1', 'MDN1', 'FBN1']\n",
      "Ovarian Cancer: ['BRCA2']\n",
      "Cervical Cancer: []\n"
     ]
    }
   ],
   "source": [
    "# Find the genes that are upregulated\n",
    "glds_78_upregulated = glds_78[(glds_78['LOG2FC'] > 0) & (glds_78['PVAL'] < 0.05)]\n",
    "glds_78_upregulated_genes = glds_78_upregulated['ENSEMBL'].to_list()\n",
    "print(\"Number of Significantly Upregulated Genes in GLDS-78:\", len(glds_78_upregulated_genes))\n",
    "\n",
    "print(\" \")\n",
    "\n",
    "# Mapping gyno cancer genes to upregulated genes in GLDS-78\n",
    "print('MAPPED UPREGULATED GENES IN GLDS-78')\n",
    "print(\"Vulva Cancer:\", list(set(vulva_cancer) & set(glds_78_upregulated_genes)))\n",
    "print(\"Uterine Carcinosarcoma:\", list(set(uterine_carcinosarcoma) & set(glds_78_upregulated_genes)))\n",
    "print(\"Endometrial Cancer:\", list(set(endometrial_carcinoma) & set(glds_78_upregulated_genes)))\n",
    "print(\"Uterine Corpus Endometrial Carcinoma:\", list(set(uterine_corpus_endometrial_carcinoma) & set(glds_78_upregulated_genes)))\n",
    "print(\"Ovarian Cancer:\", list(set(ovarian_cancer) & set(glds_78_upregulated_genes)))\n",
    "print(\"Cervical Cancer:\", list(set(cervical_cancer) & set(glds_78_upregulated_genes)))\n",
    "\n",
    "print(\" \")\n",
    "\n",
    "# Find the genes that are downregulated\n",
    "glds_78_downregulated = glds_78[(glds_78['LOG2FC'] < 0) & (glds_78['PVAL'] < 0.05)]\n",
    "glds_78_downregulated_genes = glds_78_downregulated['ENSEMBL'].to_list()\n",
    "print(\"Number of Significantly Downregulated Genes in GLDS-78:\", len(glds_78_downregulated_genes))\n",
    "\n",
    "print(\" \")\n",
    "\n",
    "# Mapping gyno cancer genes to downregulated genes in GLDS-78\n",
    "print('MAPPED DOWNREGULATED GENES IN GLDS-78')\n",
    "print(\"Vulva Cancer:\", list(set(vulva_cancer) & set(glds_78_downregulated_genes)))\n",
    "print(\"Uterine Carcinosarcoma:\", list(set(uterine_carcinosarcoma) & set(glds_78_downregulated_genes)))\n",
    "print(\"Endometrial Cancer:\", list(set(endometrial_carcinoma) & set(glds_78_downregulated_genes)))\n",
    "print(\"Uterine Corpus Endometrial Carcinoma:\", list(set(uterine_corpus_endometrial_carcinoma) & set(glds_78_downregulated_genes)))\n",
    "print(\"Ovarian Cancer:\", list(set(ovarian_cancer) & set(glds_78_downregulated_genes)))\n",
    "print(\"Cervical Cancer:\", list(set(cervical_cancer) & set(glds_78_downregulated_genes)))"
   ]
  },
  {
   "cell_type": "markdown",
   "id": "25bebff9",
   "metadata": {},
   "source": [
    "---"
   ]
  },
  {
   "cell_type": "markdown",
   "id": "55ccd9b3",
   "metadata": {},
   "source": [
    "## GLDS-91"
   ]
  },
  {
   "cell_type": "code",
   "execution_count": 14,
   "id": "00160bd9",
   "metadata": {},
   "outputs": [
    {
     "name": "stdout",
     "output_type": "stream",
     "text": [
      "Number of Significantly Upregulated Genes in GLDS-91: 438\n",
      " \n",
      "MAPPED UPREGULATED GENES IN GLDS-91\n",
      "Vulva Cancer: ['APC', 'MUC16', 'PDZD2', 'NLRP3']\n",
      "Uterine Carcinosarcoma: ['FNBP1', 'MUC16', 'ZNF318', 'DGKG', 'U2SURP', 'PIK3R1', 'RBL1', 'PIK3R2', 'KIAA1614', 'CACNB1', 'ULK4', 'HMCN2', 'PGK1']\n",
      "Endometrial Cancer: ['MUC16', 'LAMA2', 'RLF', 'ZMYM2', 'PLXNA3', 'PIK3R1', 'LYST', 'CUBN', 'ZNF292']\n",
      "Uterine Corpus Endometrial Carcinoma: ['AKAP6', 'MUC16', 'LAMA2', 'BRWD3', 'APC', 'NAV1', 'CHD6', 'PIK3R1', 'LYST', 'CUBN', 'ATRX', 'BAZ2B', 'MYH10', 'ZNF292']\n",
      "Ovarian Cancer: []\n",
      "Cervical Cancer: ['MUC16']\n",
      " \n",
      "Number of Significantly Downregulated Genes in GLDS-91: 290\n",
      " \n",
      "MAPPED DOWNREGULATED GENES IN GLDS-91\n",
      "Vulva Cancer: ['SPTB', 'SYNE2', 'USH2A', 'ARHGAP32']\n",
      "Uterine Carcinosarcoma: ['ZBTB7B', 'ACVR2A', 'TLN1']\n",
      "Endometrial Cancer: ['SYNE2', 'USH2A', 'ACVR2A', 'PIEZO2']\n",
      "Uterine Corpus Endometrial Carcinoma: ['USH2A', 'SAMD9', 'ARID5B', 'ANKRD11', 'PLXNA2', 'SYNE2']\n",
      "Ovarian Cancer: []\n",
      "Cervical Cancer: ['USH2A']\n"
     ]
    }
   ],
   "source": [
    "# Find the genes that are upregulated\n",
    "glds_91_upregulated = glds_91[(glds_91['LOG2FC'] > 0) & (glds_91['PVAL'] < 0.05)]\n",
    "glds_91_upregulated_genes = glds_91_upregulated['ENSEMBL'].to_list()\n",
    "print(\"Number of Significantly Upregulated Genes in GLDS-91:\", len(glds_91_upregulated_genes))\n",
    "\n",
    "print(\" \")\n",
    "\n",
    "# Mapping gyno cancer genes to upregulated genes in GLDS-91\n",
    "print('MAPPED UPREGULATED GENES IN GLDS-91')\n",
    "print(\"Vulva Cancer:\", list(set(vulva_cancer) & set(glds_91_upregulated_genes)))\n",
    "print(\"Uterine Carcinosarcoma:\", list(set(uterine_carcinosarcoma) & set(glds_91_upregulated_genes)))\n",
    "print(\"Endometrial Cancer:\", list(set(endometrial_carcinoma) & set(glds_91_upregulated_genes)))\n",
    "print(\"Uterine Corpus Endometrial Carcinoma:\", list(set(uterine_corpus_endometrial_carcinoma) & set(glds_91_upregulated_genes)))\n",
    "print(\"Ovarian Cancer:\", list(set(ovarian_cancer) & set(glds_91_upregulated_genes)))\n",
    "print(\"Cervical Cancer:\", list(set(cervical_cancer) & set(glds_91_upregulated_genes)))\n",
    "\n",
    "print(\" \")\n",
    "\n",
    "# Find the genes that are downregulated\n",
    "glds_91_downregulated = glds_91[(glds_91['LOG2FC'] < 0) & (glds_91['PVAL'] < 0.05)]\n",
    "glds_91_downregulated_genes = glds_91_downregulated['ENSEMBL'].to_list()\n",
    "print(\"Number of Significantly Downregulated Genes in GLDS-91:\", len(glds_91_downregulated_genes))\n",
    "\n",
    "print(\" \")\n",
    "\n",
    "# Mapping gyno cancer genes to downregulated genes in GLDS-91\n",
    "print('MAPPED DOWNREGULATED GENES IN GLDS-91')\n",
    "print(\"Vulva Cancer:\", list(set(vulva_cancer) & set(glds_91_downregulated_genes)))\n",
    "print(\"Uterine Carcinosarcoma:\", list(set(uterine_carcinosarcoma) & set(glds_91_downregulated_genes)))\n",
    "print(\"Endometrial Cancer:\", list(set(endometrial_carcinoma) & set(glds_91_downregulated_genes)))\n",
    "print(\"Uterine Corpus Endometrial Carcinoma:\", list(set(uterine_corpus_endometrial_carcinoma) & set(glds_91_downregulated_genes)))\n",
    "print(\"Ovarian Cancer:\", list(set(ovarian_cancer) & set(glds_91_downregulated_genes)))\n",
    "print(\"Cervical Cancer:\", list(set(cervical_cancer) & set(glds_91_downregulated_genes)))"
   ]
  },
  {
   "cell_type": "markdown",
   "id": "3d3ec80a",
   "metadata": {},
   "source": [
    "---"
   ]
  },
  {
   "cell_type": "markdown",
   "id": "2ecf6524",
   "metadata": {},
   "source": [
    "## GLDS-125"
   ]
  },
  {
   "cell_type": "code",
   "execution_count": 15,
   "id": "20e1e413",
   "metadata": {},
   "outputs": [
    {
     "name": "stdout",
     "output_type": "stream",
     "text": [
      "Number of Significantly Upregulated Genes in GLDS-125: 5003\n",
      " \n",
      "MAPPED UPREGULATED GENES IN GLDS-125\n",
      "Vulva Cancer: ['HTT', 'NRP2', 'TMEM132A', 'CKAP4', 'ARHGAP32', 'HDAC1', 'EPPK1', 'TRIOBP', 'ANK3', 'TRIO', 'ITPRID2', 'NAA80', 'LAMA5', 'SCAF11', 'ANP32E', 'MED24', 'SPTBN1', 'SPTB', 'EPHB6', 'FAT1', 'SH2D3A', 'EXOC4', 'EMSY', 'RNF144A', 'NEURL1B', 'WRAP53', 'UBR5', 'MYO9B', 'VPS13A', 'AGRN', 'PIK3CA', 'ZC3H18', 'DNAJC21', 'HOOK3', 'HACD1', 'PLEC', 'USP36', 'NUP188', 'MAML2', 'CHD3', 'AASS', 'TANGO6', 'BRCA2', 'CHD4', 'TASOR2', 'TP53BP1', 'FBXW7', 'FBN1', 'WDHD1', 'TRIP10', 'DST', 'SIN3A', 'TRAF5', 'CACHD1', 'SEMA5A', 'ALMS1', 'TRRAP', 'KIAA1109', 'EPHA1', 'DGKA', 'PILRB', 'CUL9', 'MDN1', 'MYEOV']\n",
      "Uterine Carcinosarcoma: ['RABGAP1', 'RECQL5', 'KRAS', 'RAPGEF5', 'NRXN3', 'TRMT5', 'CEP295', 'NCAPD2', 'ABCC3', 'APH1B', 'TBL3', 'INTS1', 'CCDC85C', 'ZDHHC17', 'ANKRD26', 'SRPK1', 'PLCB1', 'PIK3CA', 'BDP1', 'CTNNB1', 'KIAA0586', 'PHTF1', 'THRAP3', 'AGL', 'ATXN10', 'WDR6', 'DAPK1', 'BLMH', 'MAGED1', 'KIF15', 'PSME4', 'TLE3', 'RAB3GAP1', 'PSTPIP2', 'YOD1', 'ATG2A', 'DISP2', 'NUP155', 'URB1', 'STARD9', 'CKAP2', 'TSC2', 'NPAT', 'ADNP', 'PKP3', 'EMILIN3', 'SIPA1', 'EXOC2', 'FLNB', 'FRYL', 'MAP3K7', 'PIK3C2B', 'POLR3B', 'CHD4', 'PGK1', 'FBXW7', 'RPTOR', 'TAMM41', 'ZNF264', 'MASTL', 'ASTN2', 'RB1', 'BMPR1B', 'PDLIM5', 'THOC2', 'LRR1', 'DOP1B', 'SHROOM2', 'LIG3', 'CARMIL1', 'MTG2', 'PLEKHH1', 'MTHFD1L', 'MKLN1', 'ITSN1', 'PLEC', 'EVPL', 'THNSL2', 'TUBGCP2', 'USP40', 'KSR2', 'AURKC', 'STRIP1', 'RASA2', 'CASK', 'CAMTA1', 'MCM8', 'HNRNPH2', 'IREB2', 'CEP72', 'SRRT', 'VPS13B', 'ARID1A', 'DOCK3', 'ZNF236', 'VPS13A', 'NPHP4', 'PPP1R9A', 'HACD1', 'SMG1', 'TOPBP1', 'SUN1', 'PLD1', 'PIK3CD', 'HSPA12A', 'ATP13A3', 'TASOR2', 'CNTLN', 'CENPF', 'SEL1L3']\n",
      "Endometrial Cancer: ['DMD', 'INPPL1', 'KRAS', 'MAP3K4', 'HERC2', 'ANK3', 'MYCBP2', 'CEP295', 'NCAPD3', 'PRKDC', 'ARID1A', 'PKD1', 'DOCK3', 'FAT1', 'RNF213', 'STXBP5L', 'MAP4', 'UBR4', 'STARD9', 'CPLANE1', 'UBR5', 'CADPS', 'HELZ2', 'PLXNA1', 'TENM3', 'TAF4', 'DYNC2H1', 'PIK3CA', 'ATAD2', 'LMAN1', 'TMEM132B', 'BAHCC1', 'PLEC', 'CTNNB1', 'CDC42BPA', 'MEGF8', 'ASCC3', 'SZT2', 'DIAPH2', 'CHD3', 'CHD4', 'USP9X', 'SACS', 'TP53BP1', 'FBXW7', 'SVIL', 'DST', 'HUWE1', 'KIF20B', 'TAF1', 'HERC1', 'VPS13A', 'PLXNA3', 'PHF2', 'KIF21A', 'SAMD9L', 'CRACD', 'SHC1', 'MDN1', 'CHD9']\n",
      "Uterine Corpus Endometrial Carcinoma: ['UTRN', 'PLCE1', 'KRAS', 'LRBA', 'MYCBP2', 'TRIO', 'BRWD1', 'AKAP6', 'ATM', 'TPR', 'RNF213', 'UBR4', 'FRAS1', 'TENM3', 'PIK3CA', 'MTOR', 'CTNNB1', 'ASCC3', 'BRCA2', 'SACS', 'GTF3C1', 'KIF20B', 'TAF1', 'CNOT1', 'TRRAP', 'MDN1', 'PPP1R3A', 'HTT', 'ANK3', 'POLE', 'PRKDC', 'CHD8', 'BIRC6', 'FAT1', 'MACF1', 'AKAP9', 'MEGF8', 'POLQ', 'FLNB', 'CHD3', 'DOCK11', 'HSPG2', 'CHD4', 'CIT', 'FBXW7', 'SVIL', 'CEP290', 'HERC1', 'EP400', 'NF1', 'ALMS1', 'SAMD9L', 'CUL9', 'INPPL1', 'PCNT', 'ITPR2', 'HERC2', 'RB1', 'VPS13D', 'THOC2', 'FGFR2', 'MED12', 'ATR', 'MKI67', 'FBN3', 'UBR5', 'PLEC', 'DOCK1', 'HUWE1', 'DYNC1H1', 'PLXNA2', 'VWA8', 'ATRX', 'UTP20', 'DNHD1', 'DMD', 'VPS13B', 'ARID1A', 'DOCK3', 'IGF2R', 'VPS13A', 'DICER1', 'MYH10', 'DYNC2H1', 'SMG1', 'NAV3', 'VPS13C', 'SZT2', 'NBEA', 'USP9X', 'FBN1', 'DST', 'DMXL2', 'SPTAN1', 'CENPF', 'TIAM1', 'ASPM', 'KIAA1109']\n",
      "Ovarian Cancer: ['BRCA2']\n",
      "Cervical Cancer: ['DMD', 'PIK3CA', 'FBXW7']\n",
      " \n",
      "Number of Significantly Downregulated Genes in GLDS-91: 5291\n",
      " \n",
      "MAPPED DOWNREGULATED GENES IN GLDS-125\n",
      "Vulva Cancer: ['JRKL', 'MUC16', 'ZNF75D', 'BCL11B', 'NCOA1', 'KRTAP10-10', 'HSCB', 'ARSG', 'TOGARAM2', 'ATAD2B', 'AMOTL2', 'ZBTB41', 'KRBA1', 'TTC32', 'EFHB', 'ADI1', 'PCNX2', 'AHNAK2', 'ZFR', 'EIF2AK3', 'CCDC110', 'AZIN1', 'CACNA1B', 'SYNE1', 'CAMSAP1', 'CAVIN4', 'ZFHX3', 'EOMES', 'ZCWPW1', 'CDK12', 'PDE4A', 'GABRA6', 'ERCC1', 'ITGAE', 'CSGALNACT2', 'TRAPPC8', 'SCAF4', 'GPATCH3', 'CSRNP3', 'ITPR1', 'NLGN3', 'SSH1', 'COL6A1', 'APC', 'MAML3', 'BMT2', 'LRCH1', 'CCDC93', 'ZFHX4', 'FAM193A', 'CSMD3', 'CREBBP', 'DTNA', 'RAB35']\n",
      "Uterine Carcinosarcoma: ['CCDC112', 'CNNM2', 'SKIL', 'RBM27', 'ZNF18', 'LTBP2', 'ITGA5', 'NUTM1', 'QRICH2', 'SEC24D', 'JADE1', 'TBC1D30', 'OLFM1', 'ZFYVE26', 'ZFP64', 'WDR81', 'EPC1', 'RASSF9', 'KCNJ16', 'NXPE2', 'SLC16A9', 'SLC29A3', 'MAP6', 'MGAM', 'FLNC', 'MUC16', 'SUPV3L1', 'GATAD2A', 'CEP350', 'XIRP1', 'EFHB', 'STON1', 'CCR9', 'PHEX', 'TRPM5', 'ZNF202', 'HK3', 'NYX', 'ADGRF4', 'ANKRD17', 'SCARF2', 'PAX1', 'KCNG2', 'EDA', 'ABHD16B', 'TSGA10', 'KRT10', 'PXDNL', 'HUS1B', 'ASH1L', 'HYDIN', 'BTK', 'PPEF1', 'CFH', 'POM121L2', 'SAG', 'TNFAIP2', 'CRNKL1', 'EHD3', 'HSPA1L', 'COL6A1', 'RNASEL', 'APC2', 'LPIN1', 'LRIT2', 'NCOR1', 'GPBAR1', 'HOXA5', 'P2RY4', 'SOS2', 'TMC4', 'PCNX2', 'ZSWIM6', 'DYRK1A', 'ARHGEF4', 'OR6B1', 'MAP7D3', 'KCNJ12', 'ADAMTS10', 'ADAMTS9', 'CCN2', 'PLAGL1', 'EPHA7', 'ACVR2A', 'HACL1', 'CAMSAP2', 'NFKB1', 'KCND1', 'STAM2', 'SYNE1', 'RFX6', 'SLC5A10']\n",
      "Endometrial Cancer: ['MUC16', 'KIF26B', 'TP53BP2', 'RBM27', 'FBN2', 'KCNQ3', 'MAP1A', 'DIDO1', 'CEP350', 'BCOR', 'RAPGEF2', 'DDX59', 'HYDIN', 'MYO15A', 'ZNF800', 'MUC5B', 'NEB', 'NIPBL', 'AHNAK2', 'DYSF', 'CELSR1', 'MED12L', 'SETD1B', 'CACNA1B', 'DNAH14', 'ZNF292', 'ZFHX3', 'RLF', 'CSMD2', 'RYR3', 'KANSL1', 'CUBN', 'ACVR2A', 'SCAF4', 'RP1', 'DNAH7', 'STAB1', 'ZNF559', 'PCLO', 'WNK4', 'CACNA1A', 'PRDM2', 'DNAH10', 'ZFHX4', 'MGAM', 'PAPPA2', 'NFASC', 'CSMD3', 'SYNE1']\n",
      "Uterine Corpus Endometrial Carcinoma: ['PTPRB', 'DMXL1', 'MUC16', 'HIVEP3', 'KIF26B', 'NAV2', 'VWF', 'CREBBP', 'FBN2', 'PDE4DIP', 'BCOR', 'PXDNL', 'PCDHA12', 'CEP350', 'HYDIN', 'SIPA1L2', 'ASH1L', 'MYO15A', 'NSD1', 'NIPBL', 'MUC5B', 'NEB', 'MXRA5', 'SPTBN5', 'AHNAK2', 'KIAA1217', 'DYSF', 'DCC', 'DNAH14', 'CACNA1B', 'GOLGB1', 'ZNF292', 'COL22A1', 'ZFHX3', 'SETD2', 'ARID5B', 'FN1', 'BRWD3', 'HIVEP2', 'CMYA5', 'CSMD2', 'ANKRD11', 'FAM135B', 'RYR3', 'CUBN', 'SCAF4', 'ITPR1', 'FREM1', 'DNAH7', 'LAMA1', 'MYOM1', 'CDH10', 'SAMD9', 'RBBP6', 'PCLO', 'RYR1', 'APC', 'CUX1', 'HIVEP1', 'SPEN', 'CHL1', 'DNAH10', 'ZFHX4', 'MGAM', 'FLNC', 'NFASC', 'SYCP2', 'CSMD3', 'EP300', 'CHD5', 'FCGBP', 'SYNE1']\n",
      "Ovarian Cancer: []\n",
      "Cervical Cancer: ['EP300', 'MUC16', 'SYNE1']\n"
     ]
    }
   ],
   "source": [
    "# Find the genes that are upregulated\n",
    "glds_125_upregulated = glds_125[(glds_125['LOG2FC'] > 0) & (glds_125['PVAL'] < 0.05)]\n",
    "glds_125_upregulated_genes = glds_125_upregulated['ENSEMBL'].to_list()\n",
    "print(\"Number of Significantly Upregulated Genes in GLDS-125:\", len(glds_125_upregulated_genes))\n",
    "\n",
    "print(\" \")\n",
    "\n",
    "# Mapping gyno cancer genes to upregulated genes in GLDS-125\n",
    "print('MAPPED UPREGULATED GENES IN GLDS-125')\n",
    "print(\"Vulva Cancer:\", list(set(vulva_cancer) & set(glds_125_upregulated_genes)))\n",
    "print(\"Uterine Carcinosarcoma:\", list(set(uterine_carcinosarcoma) & set(glds_125_upregulated_genes)))\n",
    "print(\"Endometrial Cancer:\", list(set(endometrial_carcinoma) & set(glds_125_upregulated_genes)))\n",
    "print(\"Uterine Corpus Endometrial Carcinoma:\", list(set(uterine_corpus_endometrial_carcinoma) & set(glds_125_upregulated_genes)))\n",
    "print(\"Ovarian Cancer:\", list(set(ovarian_cancer) & set(glds_125_upregulated_genes)))\n",
    "print(\"Cervical Cancer:\", list(set(cervical_cancer) & set(glds_125_upregulated_genes)))\n",
    "\n",
    "print(\" \")\n",
    "\n",
    "# Find the genes that are downregulated\n",
    "glds_125_downregulated = glds_125[(glds_125['LOG2FC'] < 0) & (glds_125['PVAL'] < 0.05)]\n",
    "glds_125_downregulated_genes = glds_125_downregulated['ENSEMBL'].to_list()\n",
    "print(\"Number of Significantly Downregulated Genes in GLDS-125:\", len(glds_125_downregulated_genes))\n",
    "\n",
    "print(\" \")\n",
    "\n",
    "# Mapping gyno cancer genes to downregulated genes in GLDS-125\n",
    "print('MAPPED DOWNREGULATED GENES IN GLDS-125')\n",
    "print(\"Vulva Cancer:\", list(set(vulva_cancer) & set(glds_125_downregulated_genes)))\n",
    "print(\"Uterine Carcinosarcoma:\", list(set(uterine_carcinosarcoma) & set(glds_125_downregulated_genes)))\n",
    "print(\"Endometrial Cancer:\", list(set(endometrial_carcinoma) & set(glds_125_downregulated_genes)))\n",
    "print(\"Uterine Corpus Endometrial Carcinoma:\", list(set(uterine_corpus_endometrial_carcinoma) & set(glds_125_downregulated_genes)))\n",
    "print(\"Ovarian Cancer:\", list(set(ovarian_cancer) & set(glds_125_downregulated_genes)))\n",
    "print(\"Cervical Cancer:\", list(set(cervical_cancer) & set(glds_125_downregulated_genes)))"
   ]
  },
  {
   "cell_type": "markdown",
   "id": "aad2c1a4",
   "metadata": {},
   "source": [
    "---"
   ]
  },
  {
   "cell_type": "markdown",
   "id": "925fa23a",
   "metadata": {},
   "source": [
    "## GLDS-127"
   ]
  },
  {
   "cell_type": "code",
   "execution_count": 21,
   "id": "a689d97a",
   "metadata": {},
   "outputs": [
    {
     "name": "stdout",
     "output_type": "stream",
     "text": [
      "Number of Significantly Upregulated Genes in GLDS-127: 353\n",
      " \n",
      "MAPPED UPREGULATED GENES IN GLDS-127\n",
      "Vulva Cancer: ['ARHGAP32', 'ALMS1', 'ZFHX4', 'AMOTL2', 'DDHD2', 'BRCA2']\n",
      "Uterine Carcinosarcoma: ['GATAD2A', 'SPTBN2', 'GASK1A', 'CENPF', 'CCDC85C']\n",
      "Endometrial Cancer: ['DMD', 'ZFHX4', 'KIF21A', 'SPTA1', 'TRANK1', 'SAMD9L']\n",
      "Uterine Corpus Endometrial Carcinoma: ['DMD', 'ARID5B', 'RBBP6', 'MKI67', 'CHD7', 'SPTBN2', 'ALMS1', 'CENPF', 'ZFHX4', 'FRAS1', 'SPTA1', 'TRANK1', 'PKHD1L1', 'SAMD9L', 'BRCA2']\n",
      "Ovarian Cancer: ['BRCA2']\n",
      "Cervical Cancer: ['DMD']\n",
      " \n",
      "Number of Significantly Downregulated Genes in GLDS-91: 489\n",
      " \n",
      "MAPPED DOWNREGULATED GENES IN GLDS-127\n",
      "Vulva Cancer: ['MUC4', 'ADAM32', 'EPHA1', 'ABCA4', 'KCNK12']\n",
      "Uterine Carcinosarcoma: ['PRDM6', 'MUC4', 'DOP1B', 'PKP3', 'MTG2', 'LTBP2', 'DOCK3']\n",
      "Endometrial Cancer: ['LIMCH1', 'CACNA1D', 'CELSR1', 'ZNF292', 'DOCK3']\n",
      "Uterine Corpus Endometrial Carcinoma: ['MUC4', 'TRPM3', 'NRK', 'CACNA1D', 'KIAA1217', 'FCGBP', 'ZNF292', 'DOCK3']\n",
      "Ovarian Cancer: []\n",
      "Cervical Cancer: ['MUC4']\n"
     ]
    }
   ],
   "source": [
    "# Find the genes that are upregulated\n",
    "glds_127_upregulated = glds_127[(glds_127['LOG2FC'] > 0) & (glds_127['PVAL'] < 0.05)]\n",
    "glds_127_upregulated_genes = glds_127_upregulated['ENSEMBL'].to_list()\n",
    "print(\"Number of Significantly Upregulated Genes in GLDS-127:\", len(glds_127_upregulated_genes))\n",
    "\n",
    "print(\" \")\n",
    "\n",
    "# Mapping gyno cancer genes to upregulated genes in GLDS-127\n",
    "print('MAPPED UPREGULATED GENES IN GLDS-127')\n",
    "print(\"Vulva Cancer:\", list(set(vulva_cancer) & set(glds_127_upregulated_genes)))\n",
    "print(\"Uterine Carcinosarcoma:\", list(set(uterine_carcinosarcoma) & set(glds_127_upregulated_genes)))\n",
    "print(\"Endometrial Cancer:\", list(set(endometrial_carcinoma) & set(glds_127_upregulated_genes)))\n",
    "print(\"Uterine Corpus Endometrial Carcinoma:\", list(set(uterine_corpus_endometrial_carcinoma) & set(glds_127_upregulated_genes)))\n",
    "print(\"Ovarian Cancer:\", list(set(ovarian_cancer) & set(glds_127_upregulated_genes)))\n",
    "print(\"Cervical Cancer:\", list(set(cervical_cancer) & set(glds_127_upregulated_genes)))\n",
    "\n",
    "print(\" \")\n",
    "\n",
    "# Find the genes that are downregulated\n",
    "glds_127_downregulated = glds_127[(glds_127['LOG2FC'] < 0) & (glds_127['PVAL'] < 0.05)]\n",
    "glds_127_downregulated_genes = glds_127_downregulated['ENSEMBL'].to_list()\n",
    "print(\"Number of Significantly Downregulated Genes in GLDS-127:\", len(glds_127_downregulated_genes))\n",
    "\n",
    "print(\" \")\n",
    "\n",
    "# Mapping gyno cancer genes to downregulated genes in GLDS-127\n",
    "print('MAPPED DOWNREGULATED GENES IN GLDS-127')\n",
    "print(\"Vulva Cancer:\", list(set(vulva_cancer) & set(glds_127_downregulated_genes)))\n",
    "print(\"Uterine Carcinosarcoma:\", list(set(uterine_carcinosarcoma) & set(glds_127_downregulated_genes)))\n",
    "print(\"Endometrial Cancer:\", list(set(endometrial_carcinoma) & set(glds_127_downregulated_genes)))\n",
    "print(\"Uterine Corpus Endometrial Carcinoma:\", list(set(uterine_corpus_endometrial_carcinoma) & set(glds_127_downregulated_genes)))\n",
    "print(\"Ovarian Cancer:\", list(set(ovarian_cancer) & set(glds_127_downregulated_genes)))\n",
    "print(\"Cervical Cancer:\", list(set(cervical_cancer) & set(glds_127_downregulated_genes)))"
   ]
  },
  {
   "cell_type": "markdown",
   "id": "c74e7bc9",
   "metadata": {},
   "source": [
    "---"
   ]
  },
  {
   "cell_type": "markdown",
   "id": "4c4b43a0",
   "metadata": {},
   "source": [
    "## GLDS-154"
   ]
  },
  {
   "cell_type": "code",
   "execution_count": 23,
   "id": "be4eb0ba",
   "metadata": {},
   "outputs": [
    {
     "name": "stdout",
     "output_type": "stream",
     "text": [
      "Number of Significantly Upregulated Genes in GLDS-154: 1920\n",
      " \n",
      "MAPPED UPREGULATED GENES IN GLDS-154\n",
      "Vulva Cancer: ['HTT', 'MUC16', 'HECTD4', 'ZNF75D', 'NCOA1', 'MSI1', 'CCDC170', 'AKAP13', 'NAA80', 'SYNE2', 'CNTNAP2', 'SCAF11', 'PLEKHF1', 'SH2D3A', 'AGRN', 'NOTCH1', 'USP36', 'PDE4A', 'CHD3', 'NLGN3', 'FBXW7', 'TRIP10', 'MUC4', 'FRMD4A', 'MYO9A', 'ALMS1', 'ABCA3', 'CUL9']\n",
      "Uterine Carcinosarcoma: ['RAB3GAP1', 'HERC4', 'MUC16', 'GATAD2A', 'RAPGEF5', 'EDA', 'ASTN2', 'PIK3R2', 'VAV1', 'KRT10', 'WWP2', 'CNTNAP2', 'ABCC3', 'P2RY4', 'ASB7', 'CCDC40', 'LRCH4', 'ZNRF4', 'INTS1', 'SERPINB7', 'SIN3B', 'CDH12', 'ICAM5', 'ZFYVE26', 'EVPL', 'PIK3CD', 'FLNB', 'PLAGL1', 'LRP2', 'THRAP3', 'MBTPS1', 'TNR', 'FBXW7', 'MUC4', 'ZNF202', 'WDR6', 'BAIAP2L2', 'FLNA', 'CACNB1', 'CAMTA1']\n",
      "Endometrial Cancer: ['INPPL1', 'MUC16', 'SRCAP', 'KIF26B', 'NES', 'MAP1A', 'MYCBP2', 'SYNE2', 'LIMCH1', 'NEB', 'MAP4', 'ZNF536', 'SETD1B', 'PLXNA1', 'TAF4', 'BAHCC1', 'CDC42BPA', 'DIAPH2', 'CHD3', 'LRP2', 'FBXW7', 'MYO3A', 'FAT4', 'FLNA', 'NFASC', 'PTPRZ1']\n",
      "Uterine Corpus Endometrial Carcinoma: ['HTT', 'KMT2A', 'INPPL1', 'MUC16', 'HECTD4', 'SRCAP', 'PTPRD', 'KIF26B', 'MED13L', 'AKAP13', 'POLE', 'MYCBP2', 'SYNE2', 'CHD8', 'CNTNAP2', 'VPS13D', 'PDE4DIP', 'BSN', 'RNF43', 'SRRM2', 'MAP3K1', 'MKI67', 'NEB', 'GLI3', 'MYH10', 'GOLGB1', 'MTOR', 'NAV3', 'SCN10A', 'FN1', 'ANKRD11', 'FLNB', 'MYH1', 'DSCAM', 'CHD3', 'LRP2', 'FBXW7', 'MYO9A', 'MUC4', 'LAMA1', 'EP400', 'MYO3A', 'RBBP6', 'FAT4', 'SPEN', 'ALMS1', 'FLNA', 'FCGBP', 'NFASC', 'PTPRZ1', 'ATRX', 'CUL9']\n",
      "Ovarian Cancer: []\n",
      "Cervical Cancer: ['MUC4', 'MUC16', 'FBXW7']\n",
      " \n",
      "Number of Significantly Downregulated Genes in GLDS-154: 1873\n",
      " \n",
      "MAPPED DOWNREGULATED GENES IN GLDS-154\n",
      "Vulva Cancer: ['HDAC1', 'ATAD2B', 'ANP32E', 'ITPRID2', 'EMSY', 'ZFR', 'EIF2AK3', 'AZIN1', 'MCFD2', 'UBR5', 'ROBO1', 'CSGALNACT2', 'SCAF4', 'ITPR1', 'TSC22D1', 'IMPDH2', 'BECN1', 'TRRAP', 'KIAA1109']\n",
      "Uterine Carcinosarcoma: ['SUPV3L1', 'SPAG9', 'GATM', 'KRAS', 'KCNG2', 'LAX1', 'RB1', 'ARID1A', 'NCAPD2', 'CEP350', 'PDLIM5', 'NUP155', 'BTK', 'NID1', 'CARMIL1', 'URB1', 'SEC24D', 'DYRK1A', 'JAK1', 'ANKRD26', 'CKAP2', 'SRPK1', 'NPAT', 'ADNP', 'MKLN1', 'TOPBP1', 'SUN1', 'VPS41', 'MED23', 'PLD1', 'FRYL', 'ATP13A3', 'POLR3B', 'ATXN10', 'AGL', 'BAZ1A', 'EPS8', 'PGK1', 'ATP1A1', 'CRNKL1', 'TBC1D31', 'CAMSAP2', 'ZNF318', 'NFKB1', 'BLMH', 'MAGED1', 'ZNF264', 'PSME4', 'ARID4B', 'PTEN']\n",
      "Endometrial Cancer: ['DMD', 'KRAS', 'CHD9', 'PRKDC', 'NCAPD3', 'DIDO1', 'CEP350', 'RAPGEF2', 'BCOR', 'ARID1A', 'UBR5', 'JAK1', 'ATAD2', 'RLF', 'ASCC3', 'SCAF4', 'USP9X', 'SACS', 'ZC3H13', 'COL18A1', 'CTCF', 'PTEN']\n",
      "Uterine Corpus Endometrial Carcinoma: ['UTRN', 'DMD', 'KRAS', 'NAV2', 'RB1', 'LRBA', 'PRKDC', 'ARID1A', 'GIGYF2', 'CEP350', 'BCOR', 'ATM', 'UBR5', 'DICER1', 'ROBO1', 'JAK1', 'BAZ2B', 'ARID5B', 'AKAP9', 'VPS13C', 'RANBP2', 'RASA1', 'ASCC3', 'SCAF4', 'ITPR1', 'USP9X', 'SACS', 'ZC3H13', 'NF1', 'CNOT1', 'CHL1', 'PIKFYVE', 'TRRAP', 'KIAA1109', 'CTCF', 'VWA8', 'PTEN']\n",
      "Ovarian Cancer: []\n",
      "Cervical Cancer: ['DMD']\n"
     ]
    }
   ],
   "source": [
    "# Find the genes that are upregulated\n",
    "glds_154_upregulated = glds_154[(glds_154['LOG2FC'] > 0) & (glds_154['PVAL'] < 0.05)]\n",
    "glds_154_upregulated_genes = glds_154_upregulated['ENSEMBL'].to_list()\n",
    "print(\"Number of Significantly Upregulated Genes in GLDS-154:\", len(glds_154_upregulated_genes))\n",
    "\n",
    "print(\" \")\n",
    "\n",
    "# Mapping gyno cancer genes to upregulated genes in GLDS-154\n",
    "print('MAPPED UPREGULATED GENES IN GLDS-154')\n",
    "print(\"Vulva Cancer:\", list(set(vulva_cancer) & set(glds_154_upregulated_genes)))\n",
    "print(\"Uterine Carcinosarcoma:\", list(set(uterine_carcinosarcoma) & set(glds_154_upregulated_genes)))\n",
    "print(\"Endometrial Cancer:\", list(set(endometrial_carcinoma) & set(glds_154_upregulated_genes)))\n",
    "print(\"Uterine Corpus Endometrial Carcinoma:\", list(set(uterine_corpus_endometrial_carcinoma) & set(glds_154_upregulated_genes)))\n",
    "print(\"Ovarian Cancer:\", list(set(ovarian_cancer) & set(glds_154_upregulated_genes)))\n",
    "print(\"Cervical Cancer:\", list(set(cervical_cancer) & set(glds_154_upregulated_genes)))\n",
    "\n",
    "print(\" \")\n",
    "\n",
    "# Find the genes that are downregulated\n",
    "glds_154_downregulated = glds_154[(glds_154['LOG2FC'] < 0) & (glds_154['PVAL'] < 0.05)]\n",
    "glds_154_downregulated_genes = glds_154_downregulated['ENSEMBL'].to_list()\n",
    "print(\"Number of Significantly Downregulated Genes in GLDS-154:\", len(glds_154_downregulated_genes))\n",
    "\n",
    "print(\" \")\n",
    "\n",
    "# Mapping gyno cancer genes to downregulated genes in GLDS-154\n",
    "print('MAPPED DOWNREGULATED GENES IN GLDS-154')\n",
    "print(\"Vulva Cancer:\", list(set(vulva_cancer) & set(glds_154_downregulated_genes)))\n",
    "print(\"Uterine Carcinosarcoma:\", list(set(uterine_carcinosarcoma) & set(glds_154_downregulated_genes)))\n",
    "print(\"Endometrial Cancer:\", list(set(endometrial_carcinoma) & set(glds_154_downregulated_genes)))\n",
    "print(\"Uterine Corpus Endometrial Carcinoma:\", list(set(uterine_corpus_endometrial_carcinoma) & set(glds_154_downregulated_genes)))\n",
    "print(\"Ovarian Cancer:\", list(set(ovarian_cancer) & set(glds_154_downregulated_genes)))\n",
    "print(\"Cervical Cancer:\", list(set(cervical_cancer) & set(glds_154_downregulated_genes)))"
   ]
  },
  {
   "cell_type": "markdown",
   "id": "71a8ba77",
   "metadata": {},
   "source": [
    "---"
   ]
  },
  {
   "cell_type": "markdown",
   "id": "0cdb2a42",
   "metadata": {},
   "source": [
    "## GLDS-188"
   ]
  },
  {
   "cell_type": "code",
   "execution_count": 24,
   "id": "9b096d22",
   "metadata": {},
   "outputs": [
    {
     "name": "stdout",
     "output_type": "stream",
     "text": [
      "Number of Significantly Upregulated Genes in GLDS-188: 5083\n",
      " \n",
      "MAPPED UPREGULATED GENES IN GLDS-188\n",
      "Vulva Cancer: ['HECTD4', 'BCL11B', 'NCOA1', 'HSCB', 'ARHGAP32', 'HDAC1', 'ZNF814', 'ATAD2B', 'ZBTB41', 'AKAP13', 'ANP32E', 'ITPRID2', 'TRIO', 'SYNE2', 'SCAF11', 'SPTBN1', 'KMT2C', 'TTC32', 'TBC1D19', 'FAT1', 'PCNX2', 'RNF20', 'EXOC4', 'KLHL6', 'EMSY', 'EIF2AK3', 'AZIN1', 'ZFR', 'UBR5', 'DDHD2', 'VPS13A', 'PIK3CA', 'DNAJC21', 'CAVIN4', 'HOOK3', 'SLC4A4', 'HACD1', 'CDK12', 'CSGALNACT2', 'TRAPPC8', 'AASS', 'SCAF4', 'BRCA2', 'ITPR1', 'CHD4', 'FBXW7', 'WDHD1', 'CASP8', 'MYO9A', 'SIN3A', 'TRAF5', 'SSH1', 'DST', 'APC', 'BECN1', 'CACHD1', 'LRCH1', 'ALMS1', 'CCDC93', 'KIAA1109', 'FAM193A', 'DGKA', 'MDN1']\n",
      "Uterine Carcinosarcoma: ['ZNF521', 'KRAS', 'RAPGEF5', 'LAX1', 'TRMT5', 'CEP295', 'NCAPD2', 'ZNF18', 'ITGA5', 'APH1B', 'PPP4R4', 'DDX52', 'SEC24D', 'ZDHHC17', 'ANKRD26', 'SRPK1', 'PLCB1', 'PIK3CA', 'BDP1', 'MGA', 'CTNNB1', 'VPS41', 'KIAA0586', 'EPC1', 'THRAP3', 'AGL', 'ATXN10', 'KDM5A', 'DOP1A', 'TBC1D31', 'RBL1', 'PLCG2', 'KIF15', 'PSME4', 'ARID4B', 'RAB3GAP1', 'HERC4', 'SUPV3L1', 'YOD1', 'ALDH1A2', 'TPP2', 'NOM1', 'CEP350', 'NEXMIF', 'FRG1BP', 'NUP155', 'STARD9', 'CKAP2', 'JAK1', 'NPAT', 'CSNK1G1', 'ADNP', 'EXOC2', 'PIK3R1', 'FRYL', 'MAP3K7', 'POLR3B', 'CHD4', 'PGK1', 'FBXW7', 'TAMM41', 'MASTL', 'ANKRD17', 'SPAG9', 'RB1', 'PDLIM5', 'THOC2', 'LRR1', 'ASB7', 'ARHGAP35', 'ANO5', 'ZNF182', 'MKLN1', 'ITSN1', 'MBTPS1', 'USP40', 'CRNKL1', 'ZNF318', 'RNASEL', 'RASA2', 'SIK3', 'SLC9B2', 'ULK4', 'CASK', 'PTEN', 'MCM8', 'NCOR1', 'HNRNPH2', 'IREB2', 'SLFN5', 'VPS13B', 'DOCK3', 'SOS2', 'PCNX2', 'ZNF236', 'VPS13A', 'ENTPD4', 'ZSWIM6', 'DYRK1A', 'SNX19', 'MAP7D3', 'SMC1B', 'HACD1', 'SMG1', 'TOPBP1', 'MED23', 'U2SURP', 'ATP13A3', 'FNBP1', 'HACL1', 'CAMSAP2', 'CNTLN', 'NFKB1', 'CENPF', 'SEL1L3', 'STAM2']\n",
      "Endometrial Cancer: ['KRAS', 'MAP3K4', 'TP53BP2', 'PRKDC', 'MYCBP2', 'CEP295', 'NCAPD3', 'DIDO1', 'CEP350', 'RAPGEF2', 'DDX59', 'KMT2C', 'SYNE2', 'DOCK3', 'ZNF800', 'FAT1', 'RNF213', 'NIPBL', 'ARHGAP35', 'ZMYM2', 'MAP4', 'UBR4', 'STARD9', 'CPLANE1', 'UBR5', 'MED12L', 'VPS13A', 'JAK1', 'SEC31A', 'DYNC2H1', 'PIK3CA', 'ATAD2', 'ZNF292', 'LMAN1', 'SHPRH', 'PTEN', 'CTNNB1', 'RLF', 'CDC42BPA', 'PIK3R1', 'ASCC3', 'DIAPH2', 'NEO1', 'SCAF4', 'CHD4', 'USP9X', 'RPL22', 'FBXW7', 'DST', 'HUWE1', 'ZC3H13', 'TAF1', 'WDFY3', 'ZNF559', 'HERC1', 'PRDM2', 'TNRC6B', 'LYST', 'TRANK1', 'CTCF', 'SAMD9L', 'MDN1', 'CHD9']\n",
      "Uterine Corpus Endometrial Carcinoma: ['UTRN', 'KRAS', 'LRBA', 'MYCBP2', 'TRIO', 'BRWD1', 'ATM', 'TPR', 'MAP3K1', 'RNF213', 'UBR4', 'PIK3CA', 'MTOR', 'SETD2', 'DOCK2', 'MGA', 'CTNNB1', 'BRWD3', 'CHD7', 'ASCC3', 'BRCA2', 'WDFY3', 'TAF1', 'CNOT1', 'PIKFYVE', 'MDN1', 'DMXL1', 'KMT2A', 'PRKDC', 'ICE1', 'CEP350', 'CHD8', 'BIRC6', 'FAT1', 'JAK1', 'REV3L', 'MACF1', 'AKAP9', 'POLQ', 'PIK3R1', 'DOCK11', 'ITPR1', 'CHD4', 'FBXW7', 'RPL22', 'CEP290', 'ZC3H13', 'HERC1', 'NF1', 'APC', 'ALMS1', 'CTCF', 'SAMD9L', 'HECTD4', 'HIVEP3', 'PCNT', 'ITPR2', 'RB1', 'GIGYF2', 'VPS13D', 'THOC2', 'KMT2C', 'ATR', 'MED12', 'SIPA1L2', 'MKI67', 'ARHGAP35', 'UBR5', 'PCDH9', 'GOLGB1', 'ZNF292', 'CHD6', 'ANKRD11', 'RANBP2', 'USP34', 'HUWE1', 'TET1', 'DYNC1H1', 'HIVEP1', 'SPEN', 'LYST', 'SETX', 'SYCP2', 'TRANK1', 'ATRX', 'VWA8', 'UTP20', 'PTEN', 'AKAP13', 'VPS13B', 'SYNE2', 'DOCK3', 'NSD1', 'NIPBL', 'DOCK10', 'VPS13A', 'DICER1', 'ZNF462', 'RGPD3', 'MYH10', 'DYNC2H1', 'SMG1', 'ARID5B', 'HIVEP2', 'VPS13C', 'SCAF4', 'NBEA', 'USP9X', 'MYO9A', 'DST', 'RBBP6', 'DMXL2', 'CENPF', 'ASPM', 'KIAA1109']\n",
      "Ovarian Cancer: ['BRCA2']\n",
      "Cervical Cancer: ['KMT2C', 'PIK3CA', 'FBXW7']\n",
      " \n",
      "Number of Significantly Downregulated Genes in GLDS-188: 13999\n",
      " \n",
      "MAPPED DOWNREGULATED GENES IN GLDS-188\n",
      "Vulva Cancer: ['JRKL', 'NRP2', 'USH2A', 'ADAM18', 'PLB1', 'TOGARAM2', 'AMOTL2', 'TP53', 'SPTB', 'EPHB6', 'ADAM32', 'ZNF385B', 'SH2D3A', 'MEGF10', 'WRAP53', 'CCDC110', 'MYO9B', 'AGRN', 'PNLIPRP2', 'CAMSAP1', 'ZFPM2', 'ZFHX3', 'EOMES', 'ZCWPW1', 'CDH23', 'WDR87', 'PRUNE2', 'ITGAE', 'MAML2', 'KRT1', 'CRTC1', 'CSMD3', 'EPHA1', 'OR4C6', 'MYO7A', 'NRG3', 'ERICH2', 'MUC16', 'NANOGNB', 'SVEP1', 'TMEM132A', 'KRTAP10-10', 'WDFY4', 'CCDC170', 'ANK3', 'NAA80', 'KRBA1', 'MED24', 'AHNAK', 'EFHB', 'KLHL13', 'ADAMTSL3', 'CACNA1B', 'ADGRV1', 'SYNE1', 'LOXL3', 'ITIH3', 'PDE4A', 'SPATA16', 'GPATCH3', 'XIRP2', 'NRG1', 'DCHS1', 'ODF1', 'AP4B1', 'MAML3', 'KMT2B', 'TTN', 'ZFHX4', 'DCANP1', 'NLRP14', 'CUL9', 'OBSCN', 'VGLL1', 'KALRN', 'F5', 'NUMBL', 'SHROOM3', 'ABCA4', 'ADAM21', 'PLEKHF1', 'PARP10', 'SLC12A3', 'ADI1', 'MYO16', 'NEFH', 'PTPN14', 'AXDND1', 'ZC3H18', 'ADAP1', 'PLEC', 'CNTN1', 'USP36', 'LRP1B', 'RPS6KA6', 'G6PD', 'C6', 'KCNK12', 'OOSP2', 'TRIP10', 'COL6A1', 'SEMA5A', 'OR5P3', 'ABCA3', 'SORCS1', 'FMN1', 'RAB35', 'PCDH10', 'MYEOV', 'PCDH18', 'CFAP47', 'FAT2', 'IGFN1', 'TG', 'INHBA', 'CKAP4', 'MSI1', 'EPPK1', 'CNTNAP2', 'MUC17', 'AHNAK2', 'ROBO1', 'CACNA1G', 'GRIN2B', 'NOTCH1', 'NUP188', 'PDZD2', 'ERCC1', 'GABRA6', 'CSRNP3', 'NLGN3', 'FBN1', 'PARD3B', 'OR51E1', 'CSMD1', 'PIPOX', 'DTNA', 'SLC9C2']\n",
      "Uterine Carcinosarcoma: ['PTPRU', 'FMO3', 'LRRC49', 'NRXN3', 'DCAF12L2', 'NPY1R', 'TP53', 'HMCN2', 'ABCC3', 'LTBP2', 'GRIN2D', 'NUTM1', 'CCDC40', 'DIP2C', 'TOPAZ1', 'TBL3', 'IFIT1B', 'MEGF10', 'QRICH2', 'INTS1', 'OR52E8', 'ADCY1', 'CCDC85C', 'JADE1', 'TBC1D30', 'CDH12', 'OLFM1', 'GABRA5', 'ZFYVE26', 'TTC39A', 'PLXND1', 'ZFP64', 'WWC3', 'SLC26A8', 'PHTF1', 'NCKAP5L', 'WDR81', 'AGBL4', 'ZBTB7B', 'MSLN', 'PLEKHG4', 'KCNJ16', 'ST18', 'NXPE2', 'GUCY2F', 'MYOCD', 'SLC16A9', 'SH2D7', 'TMEFF2', 'DAPK1', 'MAGED1', 'KCNG4', 'MAP10', 'MAP6', 'MGAM', 'FLNC', 'AMIGO1', 'NWD2', 'TLE3', 'MUC16', 'PSTPIP2', 'GATM', 'ZNF300', 'GATAD2A', 'WDFY4', 'ZSWIM9', 'ATG2A', 'CRB2', 'LRRN3', 'DISP2', 'WWP2', 'LVRN', 'KCNF1', 'NUP210L', 'SCNN1B', 'AHNAK', 'EFHB', 'OTOG', 'GALNT15', 'NID1', 'ZNRF4', 'URB1', 'KIAA1614', 'SERPINB7', 'TSC2', 'DDX53', 'ABI3BP', 'NOTCH2', 'PKP3', 'EMILIN3', 'SIPA1', 'FLNB', 'CCSER1', 'PHEX', 'PIK3C2B', 'THSD7B', 'TNR', 'RGS6', 'DNAH6', 'ZNF577', 'TRPM5', 'ST6GAL2', 'RPTOR', 'HK3', 'EFCAB6', 'TTN', 'PRSS38', 'NYX', 'ADGRF4', 'CACNB1', 'SCARF2', 'ALOX12B', 'CARD6', 'GPRIN1', 'PAX1', 'PTPN21', 'KCNIP1', 'PAPLN', 'KCNG2', 'EDA', 'ABHD16B', 'ASTN2', 'TSGA10', 'BMPR1B', 'KRT10', 'SHROOM3', 'PXDNL', 'SNX20', 'HYDIN', 'PARP10', 'IFT140', 'SHROOM2', 'BTK', 'AGBL3', 'HTRA3', 'PPEF1', 'LIG3', 'CARMIL1', 'MTG2', 'CFH', 'PLEKHH1', 'SLC22A14', 'GRIN3A', 'SIN3B', 'SALL1', 'MYRFL', 'PLEC', 'POM121L2', 'VWA5B2', 'SPTBN2', 'BRINP1', 'LRP1B', 'EVPL', 'NLRX1', 'THNSL2', 'MYH15', 'SAG', 'LRP2', 'CD22', 'TNFAIP2', 'TUBGCP2', 'C6', 'KSR2', 'AURKC', 'EHD3', 'SYN3', 'HSPA1L', 'COL6A1', 'KMT2D', 'APC2', 'OLFM4', 'BCO1', 'ARHGEF10', 'LRIT2', 'ANKK1', 'EMILIN1', 'CAMTA1', 'PCDH18', 'GREB1', 'PLAT', 'DGKG', 'GPBAR1', 'FREM3', 'PIK3R2', 'SCNN1G', 'SRRT', 'DHX34', 'ARID1A', 'VAV1', 'NLGN2', 'CNTNAP2', 'PRDM6', 'P2RY4', 'ASB15', 'ZEB2', 'SEZ6L2', 'TMC4', 'CCDC106', 'LRCH4', 'NPHP4', 'TLN1', 'PPP1R9A', 'ARHGEF4', 'SBK2', 'ZNF541', 'OR6B1', 'ADAMTS10', 'CACNA1G', 'ALDH1L1', 'ICAM5', 'GRIN2B', 'ARSI', 'ADAMTS9', 'PLD1', 'PIK3CD', 'PLAGL1', 'SPEG', 'HSPA12A', 'EPHA7', 'PDZD4', 'ACVR2A', 'EPS8', 'FGD2', 'ZNF648', 'CACNG5', 'MAMDC2', 'CCDC63', 'BAIAP2L2', 'KLHL34', 'SASH1', 'FLNA', 'KCND1', 'SYNE1', 'RFX6', 'SLC5A10']\n",
      "Endometrial Cancer: ['USH2A', 'FMN2', 'KIF26B', 'NES', 'APOB', 'DLGAP2', 'ANK1', 'FBN2', 'MAP1A', 'TP53', 'PKD1', 'EYS', 'CELSR1', 'CADPS', 'TENM3', 'COL5A1', 'ZFHX3', 'LRRK2', 'WDR87', 'RYR3', 'RP1', 'CTNNA2', 'STAB1', 'MGAM', 'MAP3K9', 'TACC2', 'CSMD3', 'SHC1', 'DNAH8', 'MUC16', 'IQSEC2', 'WDFY4', 'ANK3', 'COL6A3', 'BCOR', 'ASTN1', 'COL11A1', 'AHNAK', 'LAMA2', 'MYT1L', 'PKHD1', 'ZNF536', 'PLXNA1', 'CACNA1B', 'NRXN1', 'ADGRV1', 'HECW1', 'DSP', 'CSMD2', 'MEGF8', 'XIRP2', 'DCHS1', 'RYR2', 'PCLO', 'COL18A1', 'KMT2B', 'PLXNA3', 'ZFHX4', 'ABCA13', 'NFASC', 'CACNA1F', 'OBSCN', 'CNTN6', 'ANK2', 'CFAP65', 'HYDIN', 'TECTA', 'SPTA1', 'SETD1B', 'HELZ2', 'TMEM132B', 'PLEC', 'LRP2', 'FSIP2', 'TENM1', 'DNAH7', 'KMT2D', 'COL12A1', 'CACNA1C', 'DNAH2', 'PAPPA2', 'KIF21A', 'PTPRZ1', 'FAT2', 'IGFN1', 'SRCAP', 'PIEZO2', 'CACNA1D', 'PCDH15', 'CDH7', 'KCNQ3', 'ARID1A', 'IGSF10', 'ABCA12', 'LIMCH1', 'MUC17', 'MYO15A', 'NEB', 'AHNAK2', 'DYSF', 'DNAH3', 'DCHS2', 'BAHCC1', 'DNAH5', 'HMCN1', 'ZNF469', 'SZT2', 'SPEG', 'DNAH17', 'PDZD4', 'ACVR2A', 'ESRP1', 'MYO3A', 'WNK4', 'CACNA1A', 'FAT4', 'KCNH5', 'DPP6', 'FLNA', 'FAT3', 'CSMD1', 'ADGRG4', 'SYNE1', 'PHF2']\n",
      "Uterine Corpus Endometrial Carcinoma: ['USH2A', 'PLCE1', 'KIF26B', 'UNC80', 'APOB', 'VWF', 'FBN2', 'TP53', 'LRP1', 'RNF43', 'EYS', 'FRAS1', 'DCC', 'TENM3', 'COL5A1', 'SCN1A', 'ZFHX3', 'TSHZ3', 'NID2', 'LRRK2', 'CDH23', 'WDR87', 'FREM2', 'RYR3', 'FAM135B', 'ANKRD30B', 'STAB2', 'MYO18B', 'GTF3C1', 'MYOM1', 'CHL1', 'DNAH9', 'MGAM', 'FLNC', 'CSMD3', 'DNAH8', 'PPP1R3A', 'MYO7A', 'MUC16', 'PTPRD', 'TENM2', 'SVEP1', 'ZAN', 'FRY', 'WDFY4', 'ANK3', 'BCOR', 'COL6A3', 'PKD1L1', 'COL11A1', 'AHNAK', 'BSN', 'LAMA2', 'LAMA3', 'KIAA1217', 'PKHD1', 'MYH7', 'CACNA1B', 'ADGRV1', 'COL22A1', 'SCN10A', 'DSP', 'CSMD2', 'MEGF8', 'ANKRD30A', 'FLNB', 'MYH1', 'DSCAM', 'ROS1', 'HSPG2', 'XIRP2', 'DNAH6', 'FREM1', 'RYR2', 'DCHS1', 'VCAN', 'LAMA1', 'EP400', 'PCLO', 'RYR1', 'GPR158', 'KMT2B', 'ABCB1', 'TTN', 'ZFHX4', 'NFASC', 'ABCA13', 'CHD5', 'CUL9', 'PTPRB', 'CACNA1F', 'OBSCN', 'CNTN6', 'ANK2', 'TENM4', 'KALRN', 'F5', 'NAV2', 'PXDNL', 'CACNA1E', 'FGFR2', 'HYDIN', 'MYO10', 'UNC79', 'SRRM2', 'SDK1', 'SPTBN5', 'FBN3', 'MYO16', 'SPTA1', 'SI', 'CNTNAP5', 'NALCN', 'PPFIA2', 'PLEC', 'FN1', 'SPTBN2', 'LRP1B', 'TRPM6', 'LRP2', 'FSIP2', 'TENM1', 'DNAH7', 'TRPM3', 'FNDC1', 'DOCK1', 'CDH10', 'NRK', 'KMT2D', 'CACNA1C', 'DNAH2', 'PLXNA2', 'PTPRZ1', 'ALPK2', 'CFAP47', 'FAT2', 'TG', 'SRCAP', 'RIMS2', 'CACNA1D', 'PCDH15', 'PKHD1L1', 'ARID1A', 'CNTNAP2', 'ABCA12', 'F8', 'MUC17', 'RELN', 'MYO15A', 'BCORL1', 'NEB', 'MXRA5', 'AHNAK2', 'SLITRK3', 'DYSF', 'DNAH3', 'ROBO1', 'DCHS2', 'NAV3', 'DNAH5', 'CMYA5', 'HMCN1', 'DNAH1', 'SZT2', 'SPEG', 'DNAH17', 'FBN1', 'MYO3A', 'UNC13C', 'FAT4', 'FAT3', 'TIAM1', 'FCGBP', 'CSMD1', 'FLNA', 'PLXNA4', 'ADGRG4', 'SYNE1']\n",
      "Ovarian Cancer: ['TTN', 'TP53']\n",
      "Cervical Cancer: ['USH2A', 'MUC16', 'KMT2D', 'TTN', 'ADGRV1', 'SYNE1', 'RYR2']\n"
     ]
    }
   ],
   "source": [
    "# Find the genes that are upregulated\n",
    "glds_188_upregulated = glds_188[(glds_188['LOG2FC'] > 0) & (glds_188['PVAL'] < 0.05)]\n",
    "glds_188_upregulated_genes = glds_188_upregulated['ENSEMBL'].to_list()\n",
    "print(\"Number of Significantly Upregulated Genes in GLDS-188:\", len(glds_188_upregulated_genes))\n",
    "\n",
    "print(\" \")\n",
    "\n",
    "# Mapping gyno cancer genes to upregulated genes in GLDS-188\n",
    "print('MAPPED UPREGULATED GENES IN GLDS-188')\n",
    "print(\"Vulva Cancer:\", list(set(vulva_cancer) & set(glds_188_upregulated_genes)))\n",
    "print(\"Uterine Carcinosarcoma:\", list(set(uterine_carcinosarcoma) & set(glds_188_upregulated_genes)))\n",
    "print(\"Endometrial Cancer:\", list(set(endometrial_carcinoma) & set(glds_188_upregulated_genes)))\n",
    "print(\"Uterine Corpus Endometrial Carcinoma:\", list(set(uterine_corpus_endometrial_carcinoma) & set(glds_188_upregulated_genes)))\n",
    "print(\"Ovarian Cancer:\", list(set(ovarian_cancer) & set(glds_188_upregulated_genes)))\n",
    "print(\"Cervical Cancer:\", list(set(cervical_cancer) & set(glds_188_upregulated_genes)))\n",
    "\n",
    "print(\" \")\n",
    "\n",
    "# Find the genes that are downregulated\n",
    "glds_188_downregulated = glds_188[(glds_188['LOG2FC'] < 0) & (glds_188['PVAL'] < 0.05)]\n",
    "glds_188_downregulated_genes = glds_188_downregulated['ENSEMBL'].to_list()\n",
    "print(\"Number of Significantly Downregulated Genes in GLDS-188:\", len(glds_188_downregulated_genes))\n",
    "\n",
    "print(\" \")\n",
    "\n",
    "# Mapping gyno cancer genes to downregulated genes in GLDS-188\n",
    "print('MAPPED DOWNREGULATED GENES IN GLDS-188')\n",
    "print(\"Vulva Cancer:\", list(set(vulva_cancer) & set(glds_188_downregulated_genes)))\n",
    "print(\"Uterine Carcinosarcoma:\", list(set(uterine_carcinosarcoma) & set(glds_188_downregulated_genes)))\n",
    "print(\"Endometrial Cancer:\", list(set(endometrial_carcinoma) & set(glds_188_downregulated_genes)))\n",
    "print(\"Uterine Corpus Endometrial Carcinoma:\", list(set(uterine_corpus_endometrial_carcinoma) & set(glds_188_downregulated_genes)))\n",
    "print(\"Ovarian Cancer:\", list(set(ovarian_cancer) & set(glds_188_downregulated_genes)))\n",
    "print(\"Cervical Cancer:\", list(set(cervical_cancer) & set(glds_188_downregulated_genes)))"
   ]
  },
  {
   "cell_type": "code",
   "execution_count": null,
   "id": "17e0fb24",
   "metadata": {},
   "outputs": [],
   "source": []
  },
  {
   "cell_type": "code",
   "execution_count": null,
   "id": "b1da41c6",
   "metadata": {},
   "outputs": [],
   "source": []
  }
 ],
 "metadata": {
  "kernelspec": {
   "display_name": "Python 3 (ipykernel)",
   "language": "python",
   "name": "python3"
  },
  "language_info": {
   "codemirror_mode": {
    "name": "ipython",
    "version": 3
   },
   "file_extension": ".py",
   "mimetype": "text/x-python",
   "name": "python",
   "nbconvert_exporter": "python",
   "pygments_lexer": "ipython3",
   "version": "3.9.7"
  }
 },
 "nbformat": 4,
 "nbformat_minor": 5
}
